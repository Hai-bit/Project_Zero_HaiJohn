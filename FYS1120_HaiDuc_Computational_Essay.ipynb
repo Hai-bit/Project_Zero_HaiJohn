{
 "cells": [
  {
   "cell_type": "markdown",
   "id": "b99c0f37",
   "metadata": {},
   "source": [
    "# <center> FYS1120- Computational essay, if zero? - Solenoide <center> \n",
    "    \n",
    "### <center> Laget av Hai Duc Pham i samarbeid med John Isacc Clapis Calderon <center>"
   ]
  },
  {
   "cell_type": "markdown",
   "id": "08faf1a8",
   "metadata": {},
   "source": [
    "I denne computational essayen for FYS1120 skal vi utdype oss i solenoiden, prinsippet bak den, og historien rundt denne. Videre skal vi se på hovedbudskapet om at en solenoide faktisk har null felt, både det magnetiske og det elektriske feltet i systemet, ved å visualisere og tilpasse variablene. Vi skal utdype metoden samt fremgangsmåten for hvordan vi skal finne ut av problemstillingen til prosjektet vårt. Dette arbeidet vil foregå i samarbeid med en annen, men dokumentasjonen og kodingen vil være hensiktsmessig tilpasset min forståelse av oppgaven. Dette gjelder også utviklingen av KI i nåværende samfunn, der det brukes til å dobbeltsjekke faktiske opplysninger. Jeg __brukte grammatiske KI-verktøy__."
   ]
  },
  {
   "cell_type": "markdown",
   "id": "66c00df4",
   "metadata": {},
   "source": [
    "## 2.1 Hva er en Solenoide?\n",
    "\n",
    "Solenoiden er en isolert leder bygget som en tettviklet spole. Når strøm tilføres systemet, vil den danne et elektromagnetisk felt rundt solenoiden. Når strøm sendes gjennom spolen, vil magnetfeltet bevege seg gjennom spolen og langs aksen til solenoiden. Komponenten kan brukes i en rekke forskjellige systemer, som for eksempel konvertering av elektrisk energi til mekanisk bevegelse. Det er og mulig bruke solenoide som endringer mellom forskjellige spenninger ved bygging av transformatorer og generatorer for generering av strøm."
   ]
  },
  {
   "cell_type": "markdown",
   "id": "c71cb9a2",
   "metadata": {},
   "source": [
    "## Fremgangsmåte\n",
    "Det er rekke fremgangsmåte som kan simuleres en visuelt Solenoide. I denne COmputatinoal Essay sakl det gjøres i Pythonm med tre forskjellige planer : XY, YZ og XZ planet. Det skal også trengs beregninger som kan gis ut magnetiske feltet rundt solenoide. Etterkan kjører vi et pprogram der den leter etter en mørk / død sone ved se den  $B = 0$  som settes ut rundt de tre planene som blir funnet. "
   ]
  },
  {
   "cell_type": "markdown",
   "id": "82e26839",
   "metadata": {},
   "source": [
    "## Kildeføring\n",
    "-Fakta om Solenoide - https://snl.no/solenoid"
   ]
  },
  {
   "cell_type": "code",
   "execution_count": null,
   "id": "54332cfe",
   "metadata": {},
   "outputs": [],
   "source": []
  }
 ],
 "metadata": {
  "kernelspec": {
   "display_name": "Python 3 (ipykernel)",
   "language": "python",
   "name": "python3"
  },
  "language_info": {
   "codemirror_mode": {
    "name": "ipython",
    "version": 3
   },
   "file_extension": ".py",
   "mimetype": "text/x-python",
   "name": "python",
   "nbconvert_exporter": "python",
   "pygments_lexer": "ipython3",
   "version": "3.11.5"
  }
 },
 "nbformat": 4,
 "nbformat_minor": 5
}
