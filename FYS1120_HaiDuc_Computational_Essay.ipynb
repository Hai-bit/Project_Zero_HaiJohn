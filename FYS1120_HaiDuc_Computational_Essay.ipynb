{
 "cells": [
  {
   "cell_type": "markdown",
   "id": "b99c0f37",
   "metadata": {},
   "source": [
    "# <center> Are there zeros in the magnetic field from a solenoid? </center> \n",
    "## <center> A computational essay for the subject FYS1120, semester H2024 </center>\n",
    "<hr>\n",
    "\n",
    "<center>Authors: Hai Duc Pham, John Isaac Calderon</center>"
   ]
  },
  {
   "cell_type": "markdown",
   "id": "08faf1a8",
   "metadata": {},
   "source": [
    "## Innledning\n",
    "I denne computational essayen for FYS1120 skal vi utdype oss i solenoiden, prinsippet bak den, og historien rundt denne. Videre skal vi se på hovedbudskapet om at en solenoide faktisk har null felt, både det magnetiske og det elektriske feltet i systemet, ved å visualisere og tilpasse variablene. Vi skal utdype metoden samt fremgangsmåten for hvordan vi skal finne ut av problemstillingen til prosjektet vårt. Dette arbeidet vil foregå i samarbeid med en annen, men dokumentasjonen og kodingen vil være hensiktsmessig tilpasset min forståelse av oppgaven. Dette gjelder også utviklingen av KI i nåværende samfunn, der det brukes til å dobbeltsjekke faktiske opplysninger. Jeg __brukte grammatiske KI-verktøy__."
   ]
  },
  {
   "cell_type": "markdown",
   "id": "66c00df4",
   "metadata": {},
   "source": [
    "## 2.1 Hva er en Solenoide?\n",
    "\n",
    "Solenoiden er en isolert leder bygget som en tettviklet spole. Når strøm tilføres systemet, vil den danne et elektromagnetisk felt rundt solenoiden. Når strøm sendes gjennom spolen, vil magnetfeltet bevege seg gjennom spolen og langs aksen til solenoiden. Komponenten kan brukes i en rekke forskjellige systemer, som for eksempel konvertering av elektrisk energi til mekanisk bevegelse. Det er og mulig bruke solenoide som endringer mellom forskjellige spenninger ved bygging av transformatorer og generatorer for generering av strøm."
   ]
  },
  {
   "cell_type": "markdown",
   "id": "c71cb9a2",
   "metadata": {},
   "source": [
    "## Fremgangsmåte\n",
    "Det er rekke fremgangsmåte som kan simuleres en visuelt Solenoide. I denne Computatinoal Essay skal det gjøres i Pythonm med tre forskjellige planer : XY, YZ og XZ planet. Det skal også trengs beregninger som kan gis ut magnetiske feltet rundt solenoide. Etterkan kjører vi et seperat program der den leter etter en mørk / død sone ved at $B = 0$ i alle tre planene.\n",
    "\n",
    "Det er to hoved formeler som blir burkt i denne prosjektet den elektriske feltet $\\mathbf{E}$ og det magnetiske feltet $\\mathbf{B}$: \n",
    "\n",
    "#### Elektrisk felt $\\mathbf{E}$\n",
    "\n",
    "1. **Elektrisk felt fra en punktladning**:\n",
    "   $$ \\mathbf{E} = \\frac{1}{4\\pi\\varepsilon_0} \\frac{Q}{r^2} \\hat{\\mathbf{r}} $$\n",
    "   hvor:\n",
    "   - $ Q $ er ladningen,\n",
    "   - $ r $ er avstanden fra ladningen,\n",
    "   - $ \\hat{\\mathbf{r}} $ er enhetsvektoren fra ladningen til punktet,\n",
    "   - $\\varepsilon_0 $ er vakuumpermittiviteten.\n",
    "\n",
    "2. **Forholdet til elektrisk potensial**:\n",
    "   $\n",
    "   \\mathbf{E} = -\\nabla V\n",
    "   $\n",
    "   hvor $V $ er det elektriske potensialet.\n",
    "\n",
    "#### Magnetisk felt $\\mathbf{B}$\n",
    "\n",
    "1. **Magnetisk felt fra en strømførende leder (siden vi ser fra Soleonide bevegelse) (Biot-Savarts lov)**:\n",
    "   $$\n",
    "   \\mathbf{B} = \\frac{\\mu_0}{4\\pi} \\int \\frac{I \\, d\\mathbf{l} \\times \\hat{\\mathbf{r}}}{r^2}\n",
    "   $$\n",
    "   hvor:\n",
    "   - $I$ er strømmen,\n",
    "   - $d\\mathbf{l}$ er differensial lengdeelement av lederen,\n",
    "   - $\\mathbf{\\hat{r}}$ er enhetsvektoren fra elementet til punktet,\n",
    "   - $\\mu_0$ er vakuumpermeabiliteten.\n",
    "\n",
    "2. **Forholdet til vektorpotensialet**:\n",
    "   $\n",
    "   \\mathbf{B} = \\nabla \\times \\mathbf{A}\n",
    "   $\n",
    "   hvor $ \\mathbf{A} $ er det magnetiske vektorpotensialet.\n",
    "\n",
    "\n",
    "\n",
    "\"Gi beskjed hvis du trenger mer detaljer eller spesifikke formler!\" - Hai "
   ]
  },
  {
   "cell_type": "markdown",
   "id": "82e26839",
   "metadata": {},
   "source": [
    "## Kildeføring\n",
    "-Fakta om Solenoide - https://snl.no/solenoid"
   ]
  },
  {
   "cell_type": "code",
   "execution_count": null,
   "id": "54332cfe",
   "metadata": {},
   "outputs": [],
   "source": []
  }
 ],
 "metadata": {
  "kernelspec": {
   "display_name": "Python 3 (ipykernel)",
   "language": "python",
   "name": "python3"
  },
  "language_info": {
   "codemirror_mode": {
    "name": "ipython",
    "version": 3
   },
   "file_extension": ".py",
   "mimetype": "text/x-python",
   "name": "python",
   "nbconvert_exporter": "python",
   "pygments_lexer": "ipython3",
   "version": "3.10.12"
  }
 },
 "nbformat": 4,
 "nbformat_minor": 5
}
