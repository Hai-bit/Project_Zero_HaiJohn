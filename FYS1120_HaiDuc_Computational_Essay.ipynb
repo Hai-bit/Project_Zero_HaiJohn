{
 "cells": [
  {
   "cell_type": "markdown",
   "id": "08faf1a8",
   "metadata": {},
   "source": [
    "# Innledning\n",
    "I denne computational essayen for FYS1120 skal vi utdype oss, prinsippet bak samt med historien rundt Solenoiden. Videre skal vi se på hovedbudskapet om at en solenoide faktisk har null felter, både det magnetiske og det elektriske feltet i systemet, ved å visualisere og tilpasse variablene. Vi skal utdype metoden samt fremgangsmåten for hvordan vi skal finne ut av problemstillingen til prosjektet vårt. Dette arbeidet vil foregå i samarbeid med en annen, men dokumentasjonen og kodingen vil være hensiktsmessig tilpasset min forståelse av oppgaven. Dette gjelder også utviklingen av KI i nåværende samfunn, der det brukes til å dobbeltsjekke faktiske opplysninger. Det ble brukt __grammatiske KI-verktøy__ for å minske feil i grammatikken eller budskapet i essayen."
   ]
  },
  {
   "cell_type": "markdown",
   "id": "1e92ab63",
   "metadata": {},
   "source": [
    "## Formålet med essayen\n",
    "Formålet med denne essayen er å besvare spørsmål som dreier seg om hvordan en solenoide fungerer. Blant de spørsmålene man kan komme på med, er det disse spørsmålene som skal utforskes og besvares i denne essayen:\n",
    "\n",
    " - Er det mulig å finne ut om det magnetiske feltet fra en solenoide går mot null? I så fall, under hvilke betingelser?\n",
    " - Hvilke faktorer påvirker styrken til det magnetiske feltet fra en solenoide?\n",
    " - Hvordan kan beregningsmodeller og simuleringer brukes til å undersøke forholdene der det magnetiske feltet går mot null? "
   ]
  },
  {
   "cell_type": "markdown",
   "id": "66c00df4",
   "metadata": {
    "editable": true,
    "slideshow": {
     "slide_type": ""
    },
    "tags": []
   },
   "source": [
    "## Solenoide -- kort forklart\n",
    "\n",
    "Solenoiden er en isolert leder bygget som en tettviklet spole. Når strøm tilføres systemet, vil den danne et elektromagnetisk felt rundt solenoiden. Det dannes altså et magnetisk felt rundt og langs aksen til solenoiden. Dette kan brukes til å danne om elektrisk energi til mekanisk energi ved bruk av magnetisk kraft. En solenoide er i essens en spole og kan dermed brukes til å lagre energi i magnetfeltet den danner.\n",
    "\n",
    "Det finnes 2 foskjellige soleniode som ekstierer i markende det enten \"valve eller electric\". Begge i prinsippe har egenskapen ved å dytte eller hente materialen den er polet til Solenoiden. Komponenten kan brukes i en rekke forskjellige systemer, det er mulig å bruke solenoide som endringer mellom forskjellige spenninger ved bygging av transformatorer og generatorer for generering av strøm."
   ]
  },
  {
   "cell_type": "markdown",
   "id": "d406b920-1ee7-4f3e-84b8-fbb3031bda16",
   "metadata": {},
   "source": [
    "%%latex\n",
    "\\newpage"
   ]
  },
  {
   "cell_type": "markdown",
   "id": "c71cb9a2",
   "metadata": {},
   "source": [
    "# Fremgangsmåte\n",
    "I denne *Computational Essay* skal det kjøres simuleringer i Python av magnetfeltet fra en solenoide sett fra tre forskjellige planer: $(x,y)$-, $(y,z)$- og $(x,z)$-planet. Det magnetiske feltet rundt en solenoide skal også utregnes. Deretter skal det kjøres et seperat program som leter etter mørke soner i alle tre planer. En *rød* sone er altså der den magnetiske feltstyrken $\\|\\mathbf{B}\\|$ er lik null.\n",
    "\n",
    "Det er hovedsakelig kun én størrelse som blir brukt i dette prosjektet: det magnetiske feltet $\\mathbf{B}$.\n",
    "\n",
    "## Magnetisk felt fra en strømførende leder (Biot-Savarts lov)\n",
    "For en strømførende leder med kurve $C$, så er det magnetiske feltet\n",
    "sett fra et vilkårlig punkt $\\mathbf{r}$ i rommet gitt ved\n",
    "\n",
    "\\begin{align*}\n",
    "\\mathbf{B}(\\mathbf{r}) = \\frac{\\mu_0}{4\\pi} \\int_C{\\frac{I \\, d\\mathbf{l} \\times \\left(\\mathbf{r} - \\mathbf{l}\\right)}{\\left\\|\\mathbf{r} - \\mathbf{l}\\right\\|^3}}\n",
    "\\end{align*}\n",
    "\n",
    "der $I$ er strømmen, $d\\mathbf{l}$ er linjeelementet til\n",
    "lederen og $\\mu_0$ er vakuumpermeabiliteten. Dette uttrykket vil være nyttig\n",
    "da en spiralkurve best tilnærmer en solenoide.\n"
   ]
  },
  {
   "cell_type": "markdown",
   "id": "1613d91c",
   "metadata": {},
   "source": [
    "## Kode for simulasjoner i planer"
   ]
  },
  {
   "cell_type": "code",
   "execution_count": null,
   "id": "8b9bdf5f",
   "metadata": {},
   "outputs": [],
   "source": []
  },
  {
   "cell_type": "markdown",
   "id": "b36adafe",
   "metadata": {},
   "source": [
    "# Kan endringer i solenoidens størrelse skape nuller i magnetfeltstyrken?\n",
    "\n",
    "I tidligere undersøkelser ble solenoiden analysert ved en standardisert størrelse for å forstå magnetfeltets oppførsel under vanlige forhold. Imidlertid vil det interessant å vurdere hva som skjer med magnetfeltet dersom solenoidens dimensjoner endres, enten ved å øke eller redusere dens radius og lengde. For å utforske dette, kan fortsette bruke samme formelen, basert på Biot-Savarts lov:\n",
    "\n",
    "$$\n",
    "\\mathbf{B}(\\mathbf{r}) = \\frac{\\mu_0}{4\\pi} \\int_C \\frac{I \\, d\\mathbf{\\ell} \\times \\left(\\mathbf{r} - \\mathbf{\\ell}\\right)}{\\|\\mathbf{r} - \\mathbf{\\ell}\\|^3}\n",
    "$$\n",
    "\n",
    "Formelen tar hensyn til lengden på solenoiden over tid, noe som innebærer at endringer i geometriske parametere kan påvirke det resulterende magnetfeltet. En større solenoid vil typisk generere et sterkere magnetfelt (B-felt) på grunn av den økte lengden av lederne gjennom hvilke strømmen går, noe som igjen kan være den resulterer til oppdannelse av dødzoner i B feltet på solenoiden. For å visualisere og analysere konseptet, bruker vi de tidligere kodene oppe som viser forskjeller i B-feltet i ulike plan, for eksempel XY- og XZ-planene. Ved addere nye kodene, en effektiv metode for gjøre alle plottene er å separere radius og lengde som separate lister, og deretter bruker en for-loop til å plotte magnetfeltet i ulike kombinasjoner av disse parameterne. På denne måten kan man simulere og sammenligne tre forskjellige størrelser, enten ved å variere lengden eller radiusen, og dermed få innsikt hvordan endringer i rekke størrelsen påvirker magnetfeltet. \n"
   ]
  },
  {
   "cell_type": "markdown",
   "id": "eed10920",
   "metadata": {},
   "source": [
    "## Kode for en solenoide med varierende størrelse"
   ]
  },
  {
   "cell_type": "code",
   "execution_count": null,
   "id": "43ecc5dd",
   "metadata": {},
   "outputs": [],
   "source": []
  },
  {
   "cell_type": "markdown",
   "id": "f7ad77ba",
   "metadata": {},
   "source": [
    "# Hva skjer dersom man kobler solenoider i serie og parallell?\n",
    "Ettersom at solenoiden i normal og variert skapte interessant endringer i XY. Er det noe feil vi fått. Det akn gjøre prøve supplere ut som delt opp serie og paraelle kobling i solenoider. Dette  kan indikere at vår B-felt funskjon i den 0 område kan sette utslag der det ikke skal være. Dette gjør av lage to objekter i lik størrelse ( i denne tilfelle er de halvert i to for en sammenlagt solenoide). Der plottes inn ved bruk av plt.ledgend.   ( skriv resultatet her). Er det mulighet lage da serie og paraellekoblinger til null B felt? "
   ]
  },
  {
   "cell_type": "markdown",
   "id": "f22062e4",
   "metadata": {},
   "source": [
    "## Kode til serie- og parallellkoblede solenoider"
   ]
  },
  {
   "cell_type": "code",
   "execution_count": null,
   "id": "30c9d168",
   "metadata": {},
   "outputs": [],
   "source": []
  },
  {
   "cell_type": "markdown",
   "id": "8e3dca15-df16-42dd-b0b0-5c011d41c17c",
   "metadata": {},
   "source": [
    "# Diskusjon\n",
    "Jeg aner ikke hva jeg skal skrive her... - J (Bruh, her skriver man hva som ble funnet i systemene vi har laget , som er viktig se hva som er funnet og videre)\n",
    "\n",
    "vi ser ut ifra dataene vi har funnet ved den serie se at den tass inn imidten . Som gis riktig ved de to solonoidene i mellom de to dras inn til origo , men ved strørrelsen kan det være den eten dratt opp eller ned istedet. Men vi for forskjeller i XZ og YZ når det plottes ut. Men det kan hende det lages variasjon ved lukket bane i solenoiden. Ved den lukket bane vil \n",
    "$$\n",
    "\\oint B * dS = 0 \n",
    "$$\n",
    "Medføre at ene siden av planet der indre har mer stryke enn andre siden av planet, istedet har ytre kanten har sterkere. lage moentant styrke til den selve farten til objektet hvis den satt gjennom innni solenoiden. Dette sett av at overfalten til ytre solenoiden ikke har endret størrelse ,som ikke er og er uniformelt.\n",
    "\n",
    "Videre i XY ser det i alle unntatt i serie slår i utslag ved den ene feltstyrken kommer kun ene siden av tangenten i sirkelen i høyre siden. Som gir ikke mulig i fysiske lover.  Det kan hende at vi \"skjærer\" midten av solenoiden som da gir sånn resultat. \n",
    "\n",
    "Men det \n",
    ".... ( skriv mer i seriekobling)"
   ]
  },
  {
   "cell_type": "markdown",
   "id": "318b52af",
   "metadata": {},
   "source": [
    "# Konklusjon\n",
    "Fra det vi har funnet om det er mulig at det finnes null $\\mathbf{B}$- felt i hele systemet så ble det oppdaget at det det kan ikke fullsyedig konkludere ved nåværende PC pga. kapasistet og begrensinger PC kan kakluere seg frem til mer sikkre svar. Fra det som fikk ut av systemet kan det settet ikke kan det ikke noe 0 B felt unntatt i noe XY i solenoide.  \n",
    "\n",
    "De rekke mulige feilkilder som kan medfører usikkheter eller kritiske påvirkninger til simuleringer vi har funnet. Det settes som sjekkliste under. Men hoved problemer gjenstår gjennom den kalkulasjonen med 0 B-felt, Denne presentere store deler av prosjeketet og ser store usikkerheter i XY planet spesielt. Denne Kan være at vi skjærer fra den XY der Z = 0 på de to første vanlige og variert. Det som medfører avik i indre og ytre. Det kan sies at utenfor det er jo XZ og YZ riktig ved at det er kalt inn som lukket systemet. Som si at hele summen av B-felt vil gå mot 0. Som da ses to forskjellige feltstyrker.  \n",
    "\n",
    "(skriv mer her)"
   ]
  },
  {
   "cell_type": "markdown",
   "id": "82e26839",
   "metadata": {},
   "source": [
    "## Kildeføring\n",
    "- Fakta om Solenoide - https://snl.no/solenoid\n",
    "- Utvidelse av Soleniode - https://ccoils.com/blog/what-is-a-solenoid/ "
   ]
  }
 ],
 "metadata": {
  "authors": [
   {
    "name": "Hai Duc Pham"
   },
   {
    "name": "John Isaac Calderon"
   }
  ],
  "kernelspec": {
   "display_name": "Python 3 (ipykernel)",
   "language": "python",
   "name": "python3"
  },
  "language_info": {
   "codemirror_mode": {
    "name": "ipython",
    "version": 3
   },
   "file_extension": ".py",
   "mimetype": "text/x-python",
   "name": "python",
   "nbconvert_exporter": "python",
   "pygments_lexer": "ipython3",
   "version": "3.10.12"
  },
  "subtitle": "Computational Essay i FYS1120, semester H 2024",
  "title": "Er det nuller i det magnetiske feltet fra en solenoide?"
 },
 "nbformat": 4,
 "nbformat_minor": 5
}
