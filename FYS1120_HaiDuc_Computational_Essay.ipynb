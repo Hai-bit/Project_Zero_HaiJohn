{
 "cells": [
  {
   "cell_type": "markdown",
   "id": "b99c0f37",
   "metadata": {},
   "source": [
    "# <center> Are there zeros in the magnetic field from a solenoid? </center> \n",
    "## <center> A computational essay for the subject FYS1120, semester H2024 </center>\n",
    "<hr>\n",
    "\n",
    "<center>Authors: Hai Duc Pham, John Isaac Calderon</center>"
   ]
  },
  {
   "cell_type": "markdown",
   "id": "08faf1a8",
   "metadata": {},
   "source": [
    "## Innledning\n",
    "I denne computational essayen for FYS1120 skal vi utdype oss, prinsippet bak samt med historien rundt Solenoiden. Videre skal vi se på hovedbudskapet om at en solenoide faktisk har null felt, både det magnetiske og det elektriske feltet i systemet, ved å visualisere og tilpasse variablene. Vi skal utdype metoden samt fremgangsmåten for hvordan vi skal finne ut av problemstillingen til prosjektet vårt. Dette arbeidet vil foregå i samarbeid med en annen, men dokumentasjonen og kodingen vil være hensiktsmessig tilpasset min forståelse av oppgaven. Dette gjelder også utviklingen av KI i nåværende samfunn, der det brukes til å dobbeltsjekke faktiske opplysninger. Det ble __brukt grammatiske KI-verktøy__ for å minske feil i grammatikken eller budskapet i essayen."
   ]
  },
  {
   "cell_type": "markdown",
   "id": "66c00df4",
   "metadata": {},
   "source": [
    "## 2.1 Hva er en Solenoide?\n",
    "\n",
    "Solenoiden er en isolert leder bygget som en tettviklet spole. Når strøm tilføres systemet, vil den danne et elektromagnetisk felt rundt solenoiden. Når strøm sendes gjennom spolen, vil magnetfeltet bevege seg gjennom spolen og langs aksen til solenoiden. Dette kan gi mulighet å overføre den elektirske energien til en mekansike energi ved den mangetiske feltet. Det finnes 2 foskjellige soleniode som ekstierer i markende det enten \"valve eller electric\". Begge i prinsippe har egenskapen ved å dytte eller hente materialen den er polet til Solenoiden. Komponenten kan brukes i en rekke forskjellige systemer, det er mulig å bruke solenoide som endringer mellom forskjellige spenninger ved bygging av transformatorer og generatorer for generering av strøm."
   ]
  },
  {
   "cell_type": "markdown",
   "id": "c71cb9a2",
   "metadata": {},
   "source": [
    "## 2.2 Fremgangsmåte\n",
    "Det er rekke fremgangsmåte som kan simuleres en visuelt Solenoide. I denne Computatinoal Essay skal det gjøres i Pythonm med tre forskjellige planer : XY, YZ og XZ planet. Det skal også trengs beregninger som kan gis ut magnetiske feltet rundt solenoide. Etterkan kjører vi et seperat program der den leter etter en mørk / død sone ved at $B = 0$ i alle tre planene.\n",
    "\n",
    "Det er to hoved formeler som blir burkt i denne prosjektet den elektriske feltet $\\mathbf{E}$ og det magnetiske feltet $\\mathbf{B}$: \n",
    "\n",
    "#### Elektrisk felt $\\mathbf{E}$\n",
    "\n",
    "1. **Elektrisk felt fra en punktladning**:\n",
    "   $$ \\mathbf{E} = \\frac{1}{4\\pi\\varepsilon_0} \\frac{Q}{r^2} \\hat{\\mathbf{r}} $$\n",
    "   hvor:\n",
    "   - $ Q $ er ladningen,\n",
    "   - $ r $ er avstanden fra ladningen,\n",
    "   - $ \\hat{\\mathbf{r}} $ er enhetsvektoren fra ladningen til punktet,\n",
    "   - $\\varepsilon_0 $ er vakuumpermittiviteten.\n",
    "\n",
    "2. **Forholdet til elektrisk potensial**:\n",
    "   $\n",
    "   \\mathbf{E} = -\\nabla V\n",
    "   $\n",
    "   hvor $V $ er det elektriske potensialet.\n",
    "\n",
    "#### Magnetisk felt $\\mathbf{B}$\n",
    "\n",
    "1. **Magnetisk felt fra en strømførende leder (siden vi ser fra Soleonide bevegelse) (Biot-Savarts lov)**:\n",
    "   $$\n",
    "   \\mathbf{B} = \\frac{\\mu_0}{4\\pi} \\int \\frac{I \\, d\\mathbf{l} \\times \\hat{\\mathbf{r}}}{r^2}\n",
    "   $$\n",
    "   hvor:\n",
    "   - $I$ er strømmen,\n",
    "   - $d\\mathbf{l}$ er differensial lengdeelement av lederen,\n",
    "   - $\\mathbf{\\hat{r}}$ er enhetsvektoren fra elementet til punktet,\n",
    "   - $\\mu_0$ er vakuumpermeabiliteten.\n",
    "\n",
    "2. **Forholdet til vektorpotensialet**:\n",
    "   $\n",
    "   \\mathbf{B} = \\nabla \\times \\mathbf{A}\n",
    "   $\n",
    "   hvor $ \\mathbf{A} $ er det magnetiske vektorpotensialet.\n",
    "\n",
    "\n",
    "\n",
    "\"Gi beskjed hvis du trenger mer detaljer eller spesifikke formler!\" - Hai "
   ]
  },
  {
   "cell_type": "markdown",
   "id": "1613d91c",
   "metadata": {},
   "source": [
    "### 2.3 Koding til planene"
   ]
  },
  {
   "cell_type": "code",
   "execution_count": null,
   "id": "8b9bdf5f",
   "metadata": {},
   "outputs": [],
   "source": []
  },
  {
   "cell_type": "markdown",
   "id": "b36adafe",
   "metadata": {},
   "source": [
    "### 3.1 Endringer i størrelse solniode kan skape null B-felt??\n",
    "Det ble sett gjennom hvordan det var i helt standardisert størrelse. Men vil det få en null magnetfelt hvis vi gjør den større eller mindre på solenoiden? Hvis vi utdyper oss den formelen vi har brukt i for mangetiske feltet \n",
    "    $$\n",
    "   \\mathbf{B} = \\frac{\\mu_0}{4\\pi} \\int \\frac{I \\, d\\mathbf{l} \\times \\hat{\\mathbf{r}}}{r^2}\n",
    "    $$\n",
    "Vil det tar hensyn med lengden til over tid. Skal vi bruke den animasjon plotting der det kan ses forksjeller i B feltet i xy og xz (ses at det ikke endringer blir det ses to planer for mindre kjøring i maskinen) \n",
    "    (skriv mer her - Hai)\n"
   ]
  },
  {
   "cell_type": "markdown",
   "id": "eed10920",
   "metadata": {},
   "source": [
    "### 3.2 Koding til variert størrelse"
   ]
  },
  {
   "cell_type": "code",
   "execution_count": null,
   "id": "43ecc5dd",
   "metadata": {},
   "outputs": [],
   "source": []
  },
  {
   "cell_type": "markdown",
   "id": "f7ad77ba",
   "metadata": {},
   "source": [
    "### 4.1 Serie og paraell?\n",
    "Ettersom at solenoiden i normal og variert skapte ---- ( skriv resultatet her). Er det mulighet lage da serie og paraellekoblinger til null B felt? "
   ]
  },
  {
   "cell_type": "markdown",
   "id": "f22062e4",
   "metadata": {},
   "source": [
    "### 4.2 koding til serie og paraelle."
   ]
  },
  {
   "cell_type": "code",
   "execution_count": null,
   "id": "30c9d168",
   "metadata": {},
   "outputs": [],
   "source": []
  },
  {
   "cell_type": "markdown",
   "id": "318b52af",
   "metadata": {},
   "source": [
    "### 5.1 Konklusjon eller sammendrag\n",
    "Fra det vi har funnet om det er mulig at det finnes null $\\mathbf{B}$- felt i hele systemet så ble det oppdaget at det ---- ( skriv svaret her)\n",
    "\n",
    "De rekke mulige feilkilder som kan medfører usikkheter eller kritiske påvirkninger til simuleringer vi har funnet. Det settes som sjekkliste under"
   ]
  },
  {
   "cell_type": "markdown",
   "id": "82e26839",
   "metadata": {},
   "source": [
    "## Kildeføring\n",
    "- Fakta om Solenoide - https://snl.no/solenoid\n",
    "- Utvidelse av Soleniode - https://ccoils.com/blog/what-is-a-solenoid/ "
   ]
  },
  {
   "cell_type": "code",
   "execution_count": null,
   "id": "54332cfe",
   "metadata": {},
   "outputs": [],
   "source": []
  }
 ],
 "metadata": {
  "kernelspec": {
   "display_name": "Python 3 (ipykernel)",
   "language": "python",
   "name": "python3"
  },
  "language_info": {
   "codemirror_mode": {
    "name": "ipython",
    "version": 3
   },
   "file_extension": ".py",
   "mimetype": "text/x-python",
   "name": "python",
   "nbconvert_exporter": "python",
   "pygments_lexer": "ipython3",
   "version": "3.10.12"
  }
 },
 "nbformat": 4,
 "nbformat_minor": 5
}
